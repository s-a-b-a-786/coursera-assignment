{
 "cells": [
  {
   "cell_type": "markdown",
   "id": "39e12e35",
   "metadata": {},
   "source": [
    "# My Jupyter Notebook on IBM Watson Studio"
   ]
  },
  {
   "cell_type": "markdown",
   "id": "3210956d",
   "metadata": {},
   "source": [
    "## Saba Anjum\n",
    "Student"
   ]
  },
  {
   "cell_type": "markdown",
   "id": "9741a705",
   "metadata": {},
   "source": [
    "*I am interested in data science because i find it very interesting and want to contribute to the society by providing affordable and quality healthcare in future.*"
   ]
  },
  {
   "cell_type": "markdown",
   "id": "bab011d8",
   "metadata": {},
   "source": [
    "### The following code should print \"Hello World!\""
   ]
  },
  {
   "cell_type": "code",
   "execution_count": 1,
   "id": "23e7fe5e",
   "metadata": {},
   "outputs": [
    {
     "name": "stdout",
     "output_type": "stream",
     "text": [
      "Hello World!\n"
     ]
    }
   ],
   "source": [
    "print(\"Hello World!\")"
   ]
  },
  {
   "cell_type": "markdown",
   "id": "be579247",
   "metadata": {},
   "source": [
    "----------------"
   ]
  },
  {
   "cell_type": "markdown",
   "id": "ed685bcf",
   "metadata": {},
   "source": [
    "| NAME | MARKS | GRADE |\n",
    "|------|-------|-------|\n",
    "|Saba  | 94    |  A    |"
   ]
  },
  {
   "cell_type": "markdown",
   "id": "8bf201dd",
   "metadata": {},
   "source": [
    "1. India\n",
    "2. Austrailia\n",
    "3. Africa\n",
    "4. Amarica\n",
    "5. Pakistan"
   ]
  },
  {
   "cell_type": "markdown",
   "id": "a918f01d",
   "metadata": {},
   "source": [
    "* rose\n",
    "* jasmine\n",
    "* lily\n",
    "* sun flower"
   ]
  }
 ],
 "metadata": {
  "kernelspec": {
   "display_name": "Python 3 (ipykernel)",
   "language": "python",
   "name": "python3"
  },
  "language_info": {
   "codemirror_mode": {
    "name": "ipython",
    "version": 3
   },
   "file_extension": ".py",
   "mimetype": "text/x-python",
   "name": "python",
   "nbconvert_exporter": "python",
   "pygments_lexer": "ipython3",
   "version": "3.9.12"
  }
 },
 "nbformat": 4,
 "nbformat_minor": 5
}
